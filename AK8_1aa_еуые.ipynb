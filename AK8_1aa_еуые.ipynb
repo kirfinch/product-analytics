{
  "cells": [
    {
      "cell_type": "markdown",
      "metadata": {
        "id": "view-in-github",
        "colab_type": "text"
      },
      "source": [
        "<a href=\"https://colab.research.google.com/github/kirfinch/product-analytics/blob/main/AK8_1aa_%D0%B5%D1%83%D1%8B%D0%B5.ipynb\" target=\"_parent\"><img src=\"https://colab.research.google.com/assets/colab-badge.svg\" alt=\"Open In Colab\"/></a>"
      ]
    },
    {
      "cell_type": "code",
      "execution_count": null,
      "metadata": {
        "id": "qN1XTje0ztn1",
        "outputId": "5889d2b2-867c-4f77-e473-0800dc3c49ce"
      },
      "outputs": [
        {
          "name": "stderr",
          "output_type": "stream",
          "text": [
            "In C:\\Games\\Anaconda3\\lib\\site-packages\\matplotlib\\mpl-data\\stylelib\\_classic_test.mplstyle: \n",
            "The text.latex.preview rcparam was deprecated in Matplotlib 3.3 and will be removed two minor releases later.\n",
            "In C:\\Games\\Anaconda3\\lib\\site-packages\\matplotlib\\mpl-data\\stylelib\\_classic_test.mplstyle: \n",
            "The mathtext.fallback_to_cm rcparam was deprecated in Matplotlib 3.3 and will be removed two minor releases later.\n",
            "In C:\\Games\\Anaconda3\\lib\\site-packages\\matplotlib\\mpl-data\\stylelib\\_classic_test.mplstyle: Support for setting the 'mathtext.fallback_to_cm' rcParam is deprecated since 3.3 and will be removed two minor releases later; use 'mathtext.fallback : 'cm' instead.\n",
            "In C:\\Games\\Anaconda3\\lib\\site-packages\\matplotlib\\mpl-data\\stylelib\\_classic_test.mplstyle: \n",
            "The validate_bool_maybe_none function was deprecated in Matplotlib 3.3 and will be removed two minor releases later.\n",
            "In C:\\Games\\Anaconda3\\lib\\site-packages\\matplotlib\\mpl-data\\stylelib\\_classic_test.mplstyle: \n",
            "The savefig.jpeg_quality rcparam was deprecated in Matplotlib 3.3 and will be removed two minor releases later.\n",
            "In C:\\Games\\Anaconda3\\lib\\site-packages\\matplotlib\\mpl-data\\stylelib\\_classic_test.mplstyle: \n",
            "The keymap.all_axes rcparam was deprecated in Matplotlib 3.3 and will be removed two minor releases later.\n",
            "In C:\\Games\\Anaconda3\\lib\\site-packages\\matplotlib\\mpl-data\\stylelib\\_classic_test.mplstyle: \n",
            "The animation.avconv_path rcparam was deprecated in Matplotlib 3.3 and will be removed two minor releases later.\n",
            "In C:\\Games\\Anaconda3\\lib\\site-packages\\matplotlib\\mpl-data\\stylelib\\_classic_test.mplstyle: \n",
            "The animation.avconv_args rcparam was deprecated in Matplotlib 3.3 and will be removed two minor releases later.\n"
          ]
        }
      ],
      "source": [
        "import pandahouse\n",
        "import numpy as np\n",
        "import pandas as pd\n",
        "from scipy import stats\n",
        "import matplotlib.pyplot as plt\n",
        "import seaborn as sns\n",
        "from tqdm.auto import tqdm"
      ]
    },
    {
      "cell_type": "code",
      "execution_count": null,
      "metadata": {
        "id": "MR5HWxcrztoA"
      },
      "outputs": [],
      "source": [
        "connection = {\n",
        "        'host': 'https://clickhouse.lab.karpov.courses',\n",
        "        'password': 'dpo_python_2020',\n",
        "        'user': 'student',\n",
        "        'database': 'simulator_20211220'\n",
        "}\n",
        "\n",
        "\n",
        "q = '''\n",
        "select user_id,\n",
        "       exp_group,\n",
        "       countIf(action = 'view') as views, \n",
        "       countIf(action = 'like') as likes, \n",
        "       likes/views as ctr\n",
        "from {db}.feed_actions \n",
        "where toDate(time) >= '2021-12-08' and toDate(time) <= '2021-12-14' and exp_group in (2,3)\n",
        "group by user_id, exp_group\n",
        "'''\n",
        "\n",
        "df = pandahouse.read_clickhouse(q, connection=connection)"
      ]
    },
    {
      "cell_type": "code",
      "execution_count": null,
      "metadata": {
        "id": "AKA0Hkk2ztoG",
        "outputId": "6fd6cde8-1656-4de4-de39-2c5aea242ae0"
      },
      "outputs": [
        {
          "data": {
            "text/html": [
              "<div>\n",
              "<style scoped>\n",
              "    .dataframe tbody tr th:only-of-type {\n",
              "        vertical-align: middle;\n",
              "    }\n",
              "\n",
              "    .dataframe tbody tr th {\n",
              "        vertical-align: top;\n",
              "    }\n",
              "\n",
              "    .dataframe thead th {\n",
              "        text-align: right;\n",
              "    }\n",
              "</style>\n",
              "<table border=\"1\" class=\"dataframe\">\n",
              "  <thead>\n",
              "    <tr style=\"text-align: right;\">\n",
              "      <th></th>\n",
              "      <th>user_id</th>\n",
              "      <th>exp_group</th>\n",
              "      <th>views</th>\n",
              "      <th>likes</th>\n",
              "      <th>ctr</th>\n",
              "    </tr>\n",
              "  </thead>\n",
              "  <tbody>\n",
              "    <tr>\n",
              "      <td>0</td>\n",
              "      <td>115383</td>\n",
              "      <td>3</td>\n",
              "      <td>36</td>\n",
              "      <td>11</td>\n",
              "      <td>0.305556</td>\n",
              "    </tr>\n",
              "    <tr>\n",
              "      <td>1</td>\n",
              "      <td>123580</td>\n",
              "      <td>3</td>\n",
              "      <td>92</td>\n",
              "      <td>15</td>\n",
              "      <td>0.163043</td>\n",
              "    </tr>\n",
              "    <tr>\n",
              "      <td>2</td>\n",
              "      <td>131473</td>\n",
              "      <td>2</td>\n",
              "      <td>148</td>\n",
              "      <td>26</td>\n",
              "      <td>0.175676</td>\n",
              "    </tr>\n",
              "    <tr>\n",
              "      <td>3</td>\n",
              "      <td>23985</td>\n",
              "      <td>2</td>\n",
              "      <td>66</td>\n",
              "      <td>12</td>\n",
              "      <td>0.181818</td>\n",
              "    </tr>\n",
              "    <tr>\n",
              "      <td>4</td>\n",
              "      <td>24523</td>\n",
              "      <td>2</td>\n",
              "      <td>120</td>\n",
              "      <td>17</td>\n",
              "      <td>0.141667</td>\n",
              "    </tr>\n",
              "    <tr>\n",
              "      <td>...</td>\n",
              "      <td>...</td>\n",
              "      <td>...</td>\n",
              "      <td>...</td>\n",
              "      <td>...</td>\n",
              "      <td>...</td>\n",
              "    </tr>\n",
              "    <tr>\n",
              "      <td>17044</td>\n",
              "      <td>122008</td>\n",
              "      <td>3</td>\n",
              "      <td>31</td>\n",
              "      <td>4</td>\n",
              "      <td>0.129032</td>\n",
              "    </tr>\n",
              "    <tr>\n",
              "      <td>17045</td>\n",
              "      <td>25383</td>\n",
              "      <td>2</td>\n",
              "      <td>57</td>\n",
              "      <td>16</td>\n",
              "      <td>0.280702</td>\n",
              "    </tr>\n",
              "    <tr>\n",
              "      <td>17046</td>\n",
              "      <td>122190</td>\n",
              "      <td>3</td>\n",
              "      <td>74</td>\n",
              "      <td>25</td>\n",
              "      <td>0.337838</td>\n",
              "    </tr>\n",
              "    <tr>\n",
              "      <td>17047</td>\n",
              "      <td>108927</td>\n",
              "      <td>2</td>\n",
              "      <td>33</td>\n",
              "      <td>8</td>\n",
              "      <td>0.242424</td>\n",
              "    </tr>\n",
              "    <tr>\n",
              "      <td>17048</td>\n",
              "      <td>17310</td>\n",
              "      <td>2</td>\n",
              "      <td>14</td>\n",
              "      <td>2</td>\n",
              "      <td>0.142857</td>\n",
              "    </tr>\n",
              "  </tbody>\n",
              "</table>\n",
              "<p>17049 rows × 5 columns</p>\n",
              "</div>"
            ],
            "text/plain": [
              "       user_id  exp_group  views  likes       ctr\n",
              "0       115383          3     36     11  0.305556\n",
              "1       123580          3     92     15  0.163043\n",
              "2       131473          2    148     26  0.175676\n",
              "3        23985          2     66     12  0.181818\n",
              "4        24523          2    120     17  0.141667\n",
              "...        ...        ...    ...    ...       ...\n",
              "17044   122008          3     31      4  0.129032\n",
              "17045    25383          2     57     16  0.280702\n",
              "17046   122190          3     74     25  0.337838\n",
              "17047   108927          2     33      8  0.242424\n",
              "17048    17310          2     14      2  0.142857\n",
              "\n",
              "[17049 rows x 5 columns]"
            ]
          },
          "execution_count": 3,
          "metadata": {},
          "output_type": "execute_result"
        }
      ],
      "source": [
        "df"
      ]
    },
    {
      "cell_type": "code",
      "execution_count": null,
      "metadata": {
        "id": "nR9IfFCGztoO",
        "outputId": "45c7e0a9-2425-49b6-8c34-72d0f7e2f8db"
      },
      "outputs": [
        {
          "data": {
            "text/plain": [
              "Ttest_indResult(statistic=-0.739359792495814, pvalue=0.45969873156477636)"
            ]
          },
          "execution_count": 4,
          "metadata": {},
          "output_type": "execute_result"
        }
      ],
      "source": [
        "# оценим с помощью t-test есть ли статистически значимые различия между группами 2 и 3, по метрике ctr\n",
        "# за нулевую гипотезу примем что между 2 и 3 различий нет\n",
        "t_test_result=stats.ttest_ind(df[df.exp_group == 2].ctr, df[df.exp_group == 3].ctr, equal_var=False)\n",
        "t_test_result"
      ]
    },
    {
      "cell_type": "markdown",
      "metadata": {
        "id": "LDl18dJjztoU"
      },
      "source": [
        "pvalue=0.45969873156477636 подтверждает нашу нулевую гипотезу"
      ]
    },
    {
      "cell_type": "code",
      "execution_count": null,
      "metadata": {
        "id": "rovs_vJLztob"
      },
      "outputs": [],
      "source": [
        "rng = 10000\n",
        "p_val=[]\n",
        "for i in range(rng):\n",
        "    # сэмплируем подвыборки с повторением в 500\n",
        "    sample2=df[df.exp_group == 2].sample(n=500, replace=True) \n",
        "    sample3=df[df.exp_group == 3].sample(n=500, replace=True)\n",
        "    # проводим t-test \n",
        "    t_test_result=stats.ttest_ind(sample2.ctr, sample3.ctr, equal_var=False)\n",
        "    p_val.append(t_test_result[1]) "
      ]
    },
    {
      "cell_type": "code",
      "execution_count": null,
      "metadata": {
        "id": "b8lwtW60ztoi",
        "outputId": "472be70f-a686-4e89-fcd1-ece987793fcb"
      },
      "outputs": [
        {
          "data": {
            "text/plain": [
              "<AxesSubplot:>"
            ]
          },
          "execution_count": 9,
          "metadata": {},
          "output_type": "execute_result"
        },
        {
          "data": {
            "image/png": "[encoded data removed]",
            "text/plain": [
              "<Figure size 432x288 with 1 Axes>"
            ]
          },
          "metadata": {
            "needs_background": "light"
          },
          "output_type": "display_data"
        }
      ],
      "source": [
        "sns.distplot(p_val, bins=100)"
      ]
    },
    {
      "cell_type": "code",
      "execution_count": null,
      "metadata": {
        "id": "P2oSFvFTztox",
        "outputId": "9c4c3d38-4d00-4fed-fcc8-fcb9d51f765c"
      },
      "outputs": [
        {
          "data": {
            "text/plain": [
              "0.0539"
            ]
          },
          "execution_count": 12,
          "metadata": {},
          "output_type": "execute_result"
        }
      ],
      "source": [
        "sum(np.array(p_val) <0.05) / rng"
      ]
    },
    {
      "cell_type": "markdown",
      "metadata": {
        "id": "zN1j327ezto3"
      },
      "source": [
        "Выводы:\n",
        "На входе мы имели отсплитованные группы 2 и 3. \n",
        "'Общий' t-test этих двух групп показал нам, что между ними нет статистически значимых различий и эти две группы можно отдавать на A/B тестирование. \n",
        "Проверяя данные на вероятность того, что нулевая гипотеза не верна, а наше значение p-value мы получили случайным образом, попав в 5% хвостов гипотезы 1.\n",
        "Мы провели 10000 t-test над повыборками в 500 повторений значений группы 2 и 3 из совокупностию\n",
        "Можно сделать заключение, что в 5,39% случаев нулевая гипотеза отвергается. Иу меня есть сомнения насколько 0,39 % критичны, чтобы точно говорить о качестве сплитования. Конечно хотелось бы провести еще проверки.\n",
        "Но лично я сделал бы вывод, что система сплитования работает корректно.\n"
      ]
    },
    {
      "cell_type": "code",
      "execution_count": null,
      "metadata": {
        "id": "MtK9idXWztpH"
      },
      "outputs": [],
      "source": []
    }
  ],
  "metadata": {
    "kernelspec": {
      "display_name": "Python 3",
      "language": "python",
      "name": "python3"
    },
    "language_info": {
      "codemirror_mode": {
        "name": "ipython",
        "version": 3
      },
      "file_extension": ".py",
      "mimetype": "text/x-python",
      "name": "python",
      "nbconvert_exporter": "python",
      "pygments_lexer": "ipython3",
      "version": "3.7.4"
    },
    "colab": {
      "name": "AK8_1aa-checkpoint.ipynb",
      "provenance": [],
      "include_colab_link": true
    }
  },
  "nbformat": 4,
  "nbformat_minor": 0
}